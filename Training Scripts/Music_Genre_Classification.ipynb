{
  "nbformat": 4,
  "nbformat_minor": 0,
  "metadata": {
    "colab": {
      "provenance": []
    },
    "kernelspec": {
      "name": "python3",
      "display_name": "Python 3"
    },
    "language_info": {
      "name": "python"
    }
  },
  "cells": [
    {
      "cell_type": "code",
      "execution_count": 13,
      "metadata": {
        "colab": {
          "base_uri": "https://localhost:8080/"
        },
        "id": "4PRbNhpC42pn",
        "outputId": "acf8cddd-8ea8-42a7-fa5f-dd80b7c2c50a"
      },
      "outputs": [
        {
          "output_type": "stream",
          "name": "stdout",
          "text": [
            "Path to dataset files: /root/.cache/kagglehub/datasets/andradaolteanu/gtzan-dataset-music-genre-classification/versions/1\n"
          ]
        }
      ],
      "source": [
        "import kagglehub\n",
        "\n",
        "# Download latest version\n",
        "path = kagglehub.dataset_download(\"andradaolteanu/gtzan-dataset-music-genre-classification\")\n",
        "\n",
        "print(\"Path to dataset files:\", path)"
      ]
    },
    {
      "cell_type": "code",
      "source": [
        "# prompt: view first 10 rows of features_30_sec.csv which is in path\n",
        "\n",
        "import pandas as pd\n",
        "import os\n",
        "\n",
        "# Assuming features_30_sec.csv is in the downloaded directory\n",
        "csv_file_path = os.path.join(path+\"/Data/\", \"features_30_sec.csv\")\n",
        "\n",
        "# Check if the file exists\n",
        "if os.path.exists(csv_file_path):\n",
        "    try:\n",
        "        df_master = pd.read_csv(csv_file_path)\n",
        "        print(df_master.head(10))\n",
        "    except pd.errors.ParserError:\n",
        "        print(f\"Error: Could not parse {csv_file_path}. Check if it's a valid CSV file.\")\n",
        "else:\n",
        "    print(f\"Error: File not found at {csv_file_path}\")\n"
      ],
      "metadata": {
        "colab": {
          "base_uri": "https://localhost:8080/"
        },
        "collapsed": true,
        "id": "VnSa5Ek89ook",
        "outputId": "f13f72d3-0a5b-4d3a-d1a6-728282621d7a"
      },
      "execution_count": 14,
      "outputs": [
        {
          "output_type": "stream",
          "name": "stdout",
          "text": [
            "          filename  length  chroma_stft_mean  chroma_stft_var  rms_mean  \\\n",
            "0  blues.00000.wav  661794          0.350088         0.088757  0.130228   \n",
            "1  blues.00001.wav  661794          0.340914         0.094980  0.095948   \n",
            "2  blues.00002.wav  661794          0.363637         0.085275  0.175570   \n",
            "3  blues.00003.wav  661794          0.404785         0.093999  0.141093   \n",
            "4  blues.00004.wav  661794          0.308526         0.087841  0.091529   \n",
            "5  blues.00005.wav  661794          0.302456         0.087532  0.103494   \n",
            "6  blues.00006.wav  661794          0.291328         0.093981  0.141874   \n",
            "7  blues.00007.wav  661794          0.307955         0.092903  0.131822   \n",
            "8  blues.00008.wav  661794          0.408879         0.086512  0.142416   \n",
            "9  blues.00009.wav  661794          0.273950         0.092316  0.081314   \n",
            "\n",
            "    rms_var  spectral_centroid_mean  spectral_centroid_var  \\\n",
            "0  0.002827             1784.165850           1.297741e+05   \n",
            "1  0.002373             1530.176679           3.758501e+05   \n",
            "2  0.002746             1552.811865           1.564676e+05   \n",
            "3  0.006346             1070.106615           1.843559e+05   \n",
            "4  0.002303             1835.004266           3.433999e+05   \n",
            "5  0.003981             1831.993940           1.030482e+06   \n",
            "6  0.008803             1459.366472           4.378594e+05   \n",
            "7  0.005531             1451.667066           4.495682e+05   \n",
            "8  0.001507             1719.368948           1.632828e+05   \n",
            "9  0.004347             1817.150863           2.982361e+05   \n",
            "\n",
            "   spectral_bandwidth_mean  spectral_bandwidth_var  ...  mfcc16_var  \\\n",
            "0              2002.449060            85882.761315  ...   52.420910   \n",
            "1              2039.036516           213843.755497  ...   55.356403   \n",
            "2              1747.702312            76254.192257  ...   40.598766   \n",
            "3              1596.412872           166441.494769  ...   44.427753   \n",
            "4              1748.172116            88445.209036  ...   86.099236   \n",
            "5              1729.653287           201910.508633  ...   72.549225   \n",
            "6              1389.009131           185023.239545  ...   83.248245   \n",
            "7              1577.270941           168211.938804  ...   70.438438   \n",
            "8              2031.740381           105542.718193  ...   50.563751   \n",
            "9              1973.773306           114070.112591  ...   59.314602   \n",
            "\n",
            "   mfcc17_mean  mfcc17_var  mfcc18_mean  mfcc18_var  mfcc19_mean  mfcc19_var  \\\n",
            "0    -1.690215   36.524071    -0.408979   41.597103    -2.303523   55.062923   \n",
            "1    -0.731125   60.314529     0.295073   48.120598    -0.283518   51.106190   \n",
            "2    -7.729093   47.639427    -1.816407   52.382141    -3.439720   46.639660   \n",
            "3    -3.319597   50.206673     0.636965   37.319130    -0.619121   37.259739   \n",
            "4    -5.454034   75.269707    -0.916874   53.613918    -4.404827   62.910812   \n",
            "5    -1.838263   68.702026    -2.783800   42.447453    -3.047909   39.808784   \n",
            "6   -10.913176   56.902153    -6.971336   38.231800    -3.436505   48.235741   \n",
            "7   -10.568935   52.090893   -10.784515   60.461330    -4.690678   65.547516   \n",
            "8    -7.041824   28.894934     2.695248   36.889568     3.412305   33.698597   \n",
            "9    -1.916804   58.418438    -2.292661   83.205231     2.881967   77.082222   \n",
            "\n",
            "   mfcc20_mean  mfcc20_var  label  \n",
            "0     1.221291   46.936035  blues  \n",
            "1     0.531217   45.786282  blues  \n",
            "2    -2.231258   30.573025  blues  \n",
            "3    -3.407448   31.949339  blues  \n",
            "4   -11.703234   55.195160  blues  \n",
            "5    -8.109991   46.311005  blues  \n",
            "6    -6.483466   70.170364  blues  \n",
            "7    -8.630722   56.401436  blues  \n",
            "8    -2.715692   36.418430  blues  \n",
            "9    -4.235203   91.468811  blues  \n",
            "\n",
            "[10 rows x 60 columns]\n"
          ]
        }
      ]
    },
    {
      "cell_type": "markdown",
      "source": [
        "# Genres in the dataset"
      ],
      "metadata": {
        "id": "qrxVYsxeAKka"
      }
    },
    {
      "cell_type": "code",
      "source": [
        "# prompt: print the genres in the dataset df_master\n",
        "\n",
        "print(df_master['label'].unique())\n",
        "\n",
        "#Splitting data into X and Y\n",
        "\n",
        "y = df_master['label']\n",
        "X = df_master.drop('label', axis = 1)\n",
        "X = X.drop('filename', axis = 1)\n",
        "\n",
        "print(X.shape)\n",
        "print(y.shape)\n",
        "\n",
        "'''\n",
        "1. splitted the data into X and Y features and labels\n",
        "2. There are totally 10 genres in the dataset\n",
        "3. Number of features are 58 with 1000 records\n",
        "'''\n",
        "\n"
      ],
      "metadata": {
        "colab": {
          "base_uri": "https://localhost:8080/",
          "height": 125
        },
        "id": "6L8GHKUrAQmS",
        "outputId": "53e7db53-58aa-489e-aa40-2d0ca50fcb7f",
        "collapsed": true
      },
      "execution_count": 15,
      "outputs": [
        {
          "output_type": "stream",
          "name": "stdout",
          "text": [
            "['blues' 'classical' 'country' 'disco' 'hiphop' 'jazz' 'metal' 'pop'\n",
            " 'reggae' 'rock']\n",
            "(1000, 58)\n",
            "(1000,)\n"
          ]
        },
        {
          "output_type": "execute_result",
          "data": {
            "text/plain": [
              "'\\n1. splitted the data into X and Y features and labels\\n2. There are totally 10 genres in the dataset\\n3. Number of features are 58 with 1000 records\\n'"
            ],
            "application/vnd.google.colaboratory.intrinsic+json": {
              "type": "string"
            }
          },
          "metadata": {},
          "execution_count": 15
        }
      ]
    },
    {
      "cell_type": "markdown",
      "source": [
        "# Understanding the features and selecting the appropriate ones (FEATURE SELECTION)"
      ],
      "metadata": {
        "id": "PPROoJXuDENk"
      }
    },
    {
      "cell_type": "code",
      "source": [
        "# prompt: print all the features of X\n",
        "\n",
        "for col in X.columns:\n",
        "  print (col)\n",
        "\n",
        "print (X[:1])"
      ],
      "metadata": {
        "colab": {
          "base_uri": "https://localhost:8080/"
        },
        "collapsed": true,
        "id": "aZoG1qJuBdA1",
        "outputId": "490dd79d-0f0a-4547-83af-77714a8f4d7f"
      },
      "execution_count": 16,
      "outputs": [
        {
          "output_type": "stream",
          "name": "stdout",
          "text": [
            "length\n",
            "chroma_stft_mean\n",
            "chroma_stft_var\n",
            "rms_mean\n",
            "rms_var\n",
            "spectral_centroid_mean\n",
            "spectral_centroid_var\n",
            "spectral_bandwidth_mean\n",
            "spectral_bandwidth_var\n",
            "rolloff_mean\n",
            "rolloff_var\n",
            "zero_crossing_rate_mean\n",
            "zero_crossing_rate_var\n",
            "harmony_mean\n",
            "harmony_var\n",
            "perceptr_mean\n",
            "perceptr_var\n",
            "tempo\n",
            "mfcc1_mean\n",
            "mfcc1_var\n",
            "mfcc2_mean\n",
            "mfcc2_var\n",
            "mfcc3_mean\n",
            "mfcc3_var\n",
            "mfcc4_mean\n",
            "mfcc4_var\n",
            "mfcc5_mean\n",
            "mfcc5_var\n",
            "mfcc6_mean\n",
            "mfcc6_var\n",
            "mfcc7_mean\n",
            "mfcc7_var\n",
            "mfcc8_mean\n",
            "mfcc8_var\n",
            "mfcc9_mean\n",
            "mfcc9_var\n",
            "mfcc10_mean\n",
            "mfcc10_var\n",
            "mfcc11_mean\n",
            "mfcc11_var\n",
            "mfcc12_mean\n",
            "mfcc12_var\n",
            "mfcc13_mean\n",
            "mfcc13_var\n",
            "mfcc14_mean\n",
            "mfcc14_var\n",
            "mfcc15_mean\n",
            "mfcc15_var\n",
            "mfcc16_mean\n",
            "mfcc16_var\n",
            "mfcc17_mean\n",
            "mfcc17_var\n",
            "mfcc18_mean\n",
            "mfcc18_var\n",
            "mfcc19_mean\n",
            "mfcc19_var\n",
            "mfcc20_mean\n",
            "mfcc20_var\n",
            "   length  chroma_stft_mean  chroma_stft_var  rms_mean   rms_var  \\\n",
            "0  661794          0.350088         0.088757  0.130228  0.002827   \n",
            "\n",
            "   spectral_centroid_mean  spectral_centroid_var  spectral_bandwidth_mean  \\\n",
            "0              1784.16585          129774.064525               2002.44906   \n",
            "\n",
            "   spectral_bandwidth_var  rolloff_mean  ...  mfcc16_mean  mfcc16_var  \\\n",
            "0            85882.761315   3805.839606  ...      0.75274    52.42091   \n",
            "\n",
            "   mfcc17_mean  mfcc17_var  mfcc18_mean  mfcc18_var  mfcc19_mean  mfcc19_var  \\\n",
            "0    -1.690215   36.524071    -0.408979   41.597103    -2.303523   55.062923   \n",
            "\n",
            "   mfcc20_mean  mfcc20_var  \n",
            "0     1.221291   46.936035  \n",
            "\n",
            "[1 rows x 58 columns]\n"
          ]
        }
      ]
    },
    {
      "cell_type": "code",
      "source": [
        "from sklearn.decomposition import PCA\n",
        "from sklearn.preprocessing import StandardScaler\n",
        "\n",
        "scaler = StandardScaler()\n",
        "X_scaled = scaler.fit_transform(X)\n",
        "\n",
        "pca = PCA(n_components=0.95)\n",
        "X_pca = pca.fit_transform(X_scaled)\n",
        "\n",
        "print ('Explained variance: ', pca.explained_variance_ratio_)\n",
        "\n",
        "print (X_pca.shape)\n",
        "\n",
        "import pickle\n",
        "\n",
        "# Save the trained StandardScaler and PCA model\n",
        "with open(\"scaler.pkl\", \"wb\") as f:\n",
        "    pickle.dump(scaler, f)\n",
        "\n",
        "with open(\"pca.pkl\", \"wb\") as f:\n",
        "    pickle.dump(pca, f)"
      ],
      "metadata": {
        "colab": {
          "base_uri": "https://localhost:8080/"
        },
        "id": "xbkWZ4QuE9Mk",
        "outputId": "e4d1cfe3-34aa-49f8-8c60-37392876de3a",
        "collapsed": true
      },
      "execution_count": 17,
      "outputs": [
        {
          "output_type": "stream",
          "name": "stdout",
          "text": [
            "Explained variance:  [0.23568344 0.1665449  0.10565515 0.07470894 0.04501412 0.0337771\n",
            " 0.02943903 0.02561621 0.02373193 0.01963377 0.01772879 0.01601975\n",
            " 0.01578185 0.0129119  0.01244251 0.01108929 0.00953749 0.00854054\n",
            " 0.00793915 0.00727253 0.00700721 0.00663527 0.00647599 0.0061634\n",
            " 0.00576628 0.00538058 0.00514698 0.00506038 0.00491999 0.00473626\n",
            " 0.00451965 0.0042549  0.00407057 0.00386416]\n",
            "(1000, 34)\n"
          ]
        }
      ]
    },
    {
      "cell_type": "code",
      "source": [
        "# prompt: visualize pca\n",
        "\n",
        "import matplotlib.pyplot as plt\n",
        "\n",
        "# Assuming X_pca and y are defined from the previous code\n",
        "\n",
        "plt.figure(figsize=(8, 6))\n",
        "plt.scatter(X_pca[:, 0], X_pca[:, 1], c=y.astype('category').cat.codes)  # Encode labels for color mapping\n",
        "plt.xlabel(\"Principal Component 1\")\n",
        "plt.ylabel(\"Principal Component 2\")\n",
        "plt.title(\"PCA Visualization of Music Genres\")\n",
        "plt.colorbar(label='Genre') # Add colorbar for genre labels\n",
        "\n",
        "plt.show()\n"
      ],
      "metadata": {
        "colab": {
          "base_uri": "https://localhost:8080/",
          "height": 564
        },
        "id": "4LwPigk-JmTS",
        "outputId": "fe307d76-6b31-4d8d-f885-47960aec5183"
      },
      "execution_count": 18,
      "outputs": [
        {
          "output_type": "display_data",
          "data": {
            "text/plain": [
              "<Figure size 800x600 with 2 Axes>"
            ],
            "image/png": "[encoded data removed]"
          },
          "metadata": {}
        }
      ]
    },
    {
      "cell_type": "markdown",
      "source": [
        "# Train Test Split"
      ],
      "metadata": {
        "id": "DBgqVuJXW_0N"
      }
    },
    {
      "cell_type": "code",
      "source": [
        "from sklearn.model_selection import train_test_split\n",
        "\n",
        "X_train, X_test, y_train, y_test = train_test_split(X_pca, y, test_size = 0.2, random_state = 42)\n",
        "\n",
        "print (X_train.shape)\n",
        "print (X_test.shape)\n",
        "print (y_train.shape)\n",
        "print (y_test.shape)"
      ],
      "metadata": {
        "colab": {
          "base_uri": "https://localhost:8080/"
        },
        "id": "Yf2jsxfqXDsY",
        "outputId": "e28fb439-39d6-45db-8763-15dfde9be116"
      },
      "execution_count": 19,
      "outputs": [
        {
          "output_type": "stream",
          "name": "stdout",
          "text": [
            "(800, 34)\n",
            "(200, 34)\n",
            "(800,)\n",
            "(200,)\n"
          ]
        }
      ]
    },
    {
      "cell_type": "code",
      "source": [
        "import torch\n",
        "import torch.nn as nn\n",
        "import torch.optim as optim\n",
        "from sklearn.preprocessing import LabelEncoder\n",
        "\n",
        "#Convert X_train and X_test into tensors to be fed to neural network\n",
        "X_train_tensor = torch.tensor(X_train, dtype=torch.float32)\n",
        "X_test_tensor = torch.tensor(X_test, dtype=torch.float32)\n",
        "\n",
        "#The categorical features y_train and y_test have string data so we use Label encoder to convert them to numerical since pytorch requires\n",
        "#only numerical not strings\n",
        "\n",
        "#Label Encoder\n",
        "le = LabelEncoder()\n",
        "\n",
        "#Fit on training labels and transform them into integers\n",
        "y_train_encoded = le.fit_transform(y_train)\n",
        "y_test_encoded = le.transform(y_test)\n",
        "\n",
        "# Save the LabelEncoder to a file\n",
        "with open(\"label_encoder.pkl\", \"wb\") as f:\n",
        "    pickle.dump(le, f)\n",
        "\n",
        "#Convert the numpy array to pytorch tensor\n",
        "y_train_tensor = torch.tensor(y_train_encoded, dtype=torch.long)\n",
        "y_test_tensor = torch.tensor(y_test_encoded, dtype=torch.long)\n",
        "\n",
        "#Define Neural network\n",
        "class MusicClassifier(nn.Module):\n",
        "  def __init__(self, input_size, num_classes):\n",
        "    super(MusicClassifier, self).__init__()\n",
        "\n",
        "    # input_layer -> hidden_layer_1\n",
        "    self.fc1 = nn.Linear(input_size, 256)\n",
        "    self.relu1 = nn.ReLU()\n",
        "    self.dropout1 = nn.Dropout(0.3)  # Added dropout\n",
        "\n",
        "    #Hidden_layer_1 -> Hidden_Layer_2\n",
        "    self.fc2 = nn.Linear(256, 128)\n",
        "    self.relu2 = nn.ReLU()\n",
        "    self.dropout2 = nn.Dropout(0.3)  # Added dropout\n",
        "\n",
        "    #Hidden_Layer_2 -> Hidden_Layer_3\n",
        "    self.fc3 = nn.Linear(128, 64)\n",
        "    self.relu3 = nn.ReLU()\n",
        "    self.dropout3 = nn.Dropout(0.3)  # Added dropout\n",
        "\n",
        "    #Hidden_Layer_3 -> Output_Layer\n",
        "    self.fc4 = nn.Linear(64, num_classes)\n",
        "\n",
        "  #def forward propagation\n",
        "  def forward(self, x):\n",
        "    out = self.fc1(x)\n",
        "    out = self.relu1(out)\n",
        "    out = self.dropout1(out)\n",
        "\n",
        "    out = self.fc2(out)\n",
        "    out = self.relu2(out)\n",
        "    out = self.dropout2(out)\n",
        "\n",
        "    out = self.fc3(out)\n",
        "    out = self.relu3(out)\n",
        "    out = self.dropout3(out)  # Apply dropout\n",
        "\n",
        "    out = self.fc4(out)\n",
        "    return out\n",
        "\n",
        "#Number of input features\n",
        "input_size = X_train.shape[1] #Gets the number of features column\n",
        "\n",
        "#Number of unique labels\n",
        "num_classes = len(le.classes_) #Gets the number of unique categories\n",
        "\n",
        "#Initialize model\n",
        "model = MusicClassifier(input_size, num_classes)\n",
        "\n",
        "#Define a loss function\n",
        "criterion = nn.CrossEntropyLoss()\n",
        "\n",
        "#Adam Optimizer an adaptive learning algorithm that adjusts learning rates automatically\n",
        "optimizer = optim.Adam(model.parameters(), lr = 0.001)\n",
        "\n",
        "#Training loops\n",
        "n_epochs = 150\n",
        "for epoch in range(n_epochs):\n",
        "  #Forward pass\n",
        "  outputs = model(X_train_tensor)\n",
        "  loss = criterion(outputs, y_train_tensor)\n",
        "\n",
        "  #Backward and optimize\n",
        "  optimizer.zero_grad() #setting all the previous biases and weights to zero\n",
        "  loss.backward() #backpropagation\n",
        "  optimizer.step() #updates the weights\n",
        "\n",
        "  if (epoch+1) % 10 == 0:\n",
        "    print(f'Epoch [{epoch+1}/{n_epochs}], Loss: {loss.item():.4f}')\n",
        "\n",
        "# Evaluate Train and Test accuracies\n",
        "with torch.no_grad(): #disabling gradient tracking (faster & saves memory)\n",
        "  #initialize counters\n",
        "  correct_train = 0\n",
        "  total_train = 0\n",
        "\n",
        "  #Get model prediction on training dataset\n",
        "  outputs_train = model(X_train_tensor)\n",
        "\n",
        "  #Convert the logits to class prediction\n",
        "  _, predicted_train = torch.max(outputs_train.data, 1) #Get class with highest score\n",
        "\n",
        "  #Count total samples\n",
        "  total_train += y_train_tensor.size(0)#total training samples\n",
        "\n",
        "  #Count correct prediction\n",
        "  correct_train += (predicted_train == y_train_tensor).sum().item()\n",
        "\n",
        "  #Compute accuracy\n",
        "  train_accuracy = 100 * correct_train / total_train\n",
        "  print (f'Train Accuracy: {train_accuracy: .2f}%')\n",
        "\n",
        "  #Test Accuracy\n",
        "  #initialize counters\n",
        "  correct_test = 0\n",
        "  total_test = 0\n",
        "\n",
        "  #Get model prediction on test dataset\n",
        "  outputs_test = model(X_test_tensor)\n",
        "\n",
        "  #Convert the logits to class prediction\n",
        "  _, predicted_test = torch.max(outputs_test.data, 1)#Get class with highest score\n",
        "\n",
        "  #Count total test samples\n",
        "  total_test += y_test_tensor.size(0)#total test samples\n",
        "\n",
        "  #Count correct test predictions\n",
        "  correct_test += (predicted_test == y_test_tensor).sum().item()\n",
        "\n",
        "  #Compute test accuracy\n",
        "  test_accuracy = 100 * correct_test / total_test\n",
        "  print (f'Test Accuracy: {test_accuracy: .2f}%')\n"
      ],
      "metadata": {
        "colab": {
          "base_uri": "https://localhost:8080/"
        },
        "id": "VJLPDQLZ_CKd",
        "outputId": "eecc2b25-0be8-4946-b340-ee2ab4c67cdb"
      },
      "execution_count": 20,
      "outputs": [
        {
          "output_type": "stream",
          "name": "stdout",
          "text": [
            "Epoch [10/150], Loss: 2.0572\n",
            "Epoch [20/150], Loss: 1.6793\n",
            "Epoch [30/150], Loss: 1.3864\n",
            "Epoch [40/150], Loss: 1.1641\n",
            "Epoch [50/150], Loss: 0.9835\n",
            "Epoch [60/150], Loss: 0.8958\n",
            "Epoch [70/150], Loss: 0.7657\n",
            "Epoch [80/150], Loss: 0.6838\n",
            "Epoch [90/150], Loss: 0.6400\n",
            "Epoch [100/150], Loss: 0.5769\n",
            "Epoch [110/150], Loss: 0.5204\n",
            "Epoch [120/150], Loss: 0.4701\n",
            "Epoch [130/150], Loss: 0.4014\n",
            "Epoch [140/150], Loss: 0.3827\n",
            "Epoch [150/150], Loss: 0.3875\n",
            "Train Accuracy:  88.00%\n",
            "Test Accuracy:  70.50%\n"
          ]
        }
      ]
    },
    {
      "cell_type": "code",
      "source": [
        "import pickle\n",
        "\n",
        "model_path = \"music_classifier.pkl\"\n",
        "\n",
        "with open(model_path, 'wb') as file:\n",
        "  #Pickle is not designed to save PyTorch models directly.\n",
        "  #Instead of saving the entire model, you should only save the model’s state_dict(), which contains the weights.\n",
        "  pickle.dump(model.state_dict(), file)\n",
        "\n",
        "print (f\"Model saved to {model_path}\")"
      ],
      "metadata": {
        "colab": {
          "base_uri": "https://localhost:8080/"
        },
        "id": "SZqNPuLSbjeL",
        "outputId": "a46e3a48-4f6e-4b97-e994-2b22c25b24b2"
      },
      "execution_count": 21,
      "outputs": [
        {
          "output_type": "stream",
          "name": "stdout",
          "text": [
            "Model saved to music_classifier.pkl\n"
          ]
        }
      ]
    },
    {
      "cell_type": "code",
      "source": [
        "#Load the model for inference\n",
        "\n",
        "model = MusicClassifier(input_size, num_classes)\n",
        "with open(\"music_classifier.pkl\", \"rb\") as f:\n",
        "  model.load_state_dict(pickle.load(f))\n",
        "\n",
        "#Set model to evaluation mode\n",
        "model.eval()\n",
        "print (\"Model Loaded Successfully!\")"
      ],
      "metadata": {
        "colab": {
          "base_uri": "https://localhost:8080/"
        },
        "id": "fUDnDH5SVpn_",
        "outputId": "37d6d8e7-bcfe-40b1-d792-a4a8ff85f2cb"
      },
      "execution_count": 22,
      "outputs": [
        {
          "output_type": "stream",
          "name": "stdout",
          "text": [
            "Model Loaded Successfully!\n"
          ]
        }
      ]
    },
    {
      "cell_type": "code",
      "source": [
        "#Using the Loaded model for predictions\n",
        "with torch.no_grad():\n",
        "  sample_input = X_test_tensor[:15] #Take first 5 samples for prediction\n",
        "  outputs = model(sample_input)\n",
        "  _, predicted = torch.max(outputs,1)\n",
        "\n",
        "#Convert the Numerical predictions back to string labels\n",
        "predicted_labels = le.inverse_transform(predicted.numpy())\n",
        "\n",
        "print(f\"Predicted labels: {predicted_labels}\")\n",
        "print(f\"Actual labels: {y_test[:15].values}\")"
      ],
      "metadata": {
        "colab": {
          "base_uri": "https://localhost:8080/"
        },
        "id": "M1Ff2GKfaXNo",
        "outputId": "ea2c061d-acb0-42d9-d981-073a365bb200"
      },
      "execution_count": 27,
      "outputs": [
        {
          "output_type": "stream",
          "name": "stdout",
          "text": [
            "Predicted labels: ['disco' 'pop' 'pop' 'metal' 'hiphop' 'metal' 'metal' 'jazz' 'reggae'\n",
            " 'classical' 'hiphop' 'blues' 'metal' 'rock' 'pop']\n",
            "Actual labels: ['jazz' 'pop' 'pop' 'metal' 'hiphop' 'metal' 'metal' 'jazz' 'reggae'\n",
            " 'classical' 'reggae' 'blues' 'metal' 'rock' 'rock']\n"
          ]
        }
      ]
    },
    {
      "cell_type": "code",
      "source": [
        "import librosa\n",
        "import numpy as np\n",
        "import pickle\n",
        "import os\n",
        "import random\n",
        "\n",
        "# Load the trained scaler, PCA, and model\n",
        "with open(\"scaler.pkl\", \"rb\") as f:\n",
        "    scaler = pickle.load(f)\n",
        "\n",
        "with open(\"pca.pkl\", \"rb\") as f:\n",
        "    pca = pickle.load(f)\n",
        "\n",
        "# Load the entire trained model (since it's pickled, not a state_dict)\n",
        "with open(\"music_classifier.pkl\", \"rb\") as f:\n",
        "    state_dict = pickle.load(f)\n",
        "model = MusicClassifier(input_size, num_classes)\n",
        "# Load the state dictionary into the model\n",
        "model.load_state_dict(state_dict)\n",
        "model.eval()  # Set to evaluation mode\n",
        "\n",
        "\n",
        "# Function to extract features from an audio file\n",
        "def extract_audio_features(audio_path, min_duration=10, max_duration=15):\n",
        "    duration = random.uniform(min_duration, max_duration)\n",
        "    y, sr = librosa.load(audio_path, sr=None, duration= duration )\n",
        "\n",
        "    # Compute required features\n",
        "    chroma_stft = librosa.feature.chroma_stft(y=y, sr=sr)\n",
        "    rms = librosa.feature.rms(y=y)\n",
        "    spectral_centroid = librosa.feature.spectral_centroid(y=y, sr=sr)\n",
        "    spectral_bandwidth = librosa.feature.spectral_bandwidth(y=y, sr=sr)\n",
        "    rolloff = librosa.feature.spectral_rolloff(y=y, sr=sr)\n",
        "    zero_crossing_rate = librosa.feature.zero_crossing_rate(y)\n",
        "    harmony, perceptr = librosa.effects.hpss(y)\n",
        "    tempo, _ = librosa.beat.beat_track(y=y, sr=sr)\n",
        "\n",
        "    mfccs = librosa.feature.mfcc(y=y, sr=sr, n_mfcc=20)\n",
        "\n",
        "    # Extract means and variances\n",
        "    features = {\n",
        "        \"length\": len(y),\n",
        "        \"chroma_stft_mean\": np.mean(chroma_stft),\n",
        "        \"chroma_stft_var\": np.var(chroma_stft),\n",
        "        \"rms_mean\": np.mean(rms),\n",
        "        \"rms_var\": np.var(rms),\n",
        "        \"spectral_centroid_mean\": np.mean(spectral_centroid),\n",
        "        \"spectral_centroid_var\": np.var(spectral_centroid),\n",
        "        \"spectral_bandwidth_mean\": np.mean(spectral_bandwidth),\n",
        "        \"spectral_bandwidth_var\": np.var(spectral_bandwidth),\n",
        "        \"rolloff_mean\": np.mean(rolloff),\n",
        "        \"rolloff_var\": np.var(rolloff),\n",
        "        \"zero_crossing_rate_mean\": np.mean(zero_crossing_rate),\n",
        "        \"zero_crossing_rate_var\": np.var(zero_crossing_rate),\n",
        "        \"harmony_mean\": np.mean(harmony),\n",
        "        \"harmony_var\": np.var(harmony),\n",
        "        \"perceptr_mean\": np.mean(perceptr),\n",
        "        \"perceptr_var\": np.var(perceptr),\n",
        "        \"tempo\": tempo\n",
        "    }\n",
        "\n",
        "    # Extract MFCCs\n",
        "    for i in range(20):\n",
        "        features[f\"mfcc{i+1}_mean\"] = np.mean(mfccs[i])\n",
        "        features[f\"mfcc{i+1}_var\"] = np.var(mfccs[i])\n",
        "\n",
        "    # Convert to DataFrame\n",
        "    df = pd.DataFrame([features])\n",
        "    print (df[:1])\n",
        "    return df\n",
        "\n",
        "# Function to predict genre\n",
        "def predict_genre(audio_path):\n",
        "    features = extract_audio_features(audio_path)\n",
        "\n",
        "    # Apply scaling and PCA\n",
        "    features_scaled = scaler.transform(features)\n",
        "    features_pca = pca.transform(features_scaled)\n",
        "\n",
        "    # Convert to tensor for PyTorch model\n",
        "    input_tensor = torch.tensor(features_pca, dtype=torch.float32)\n",
        "    # Run inference\n",
        "    with torch.no_grad():\n",
        "        outputs = model(input_tensor)  # Get model predictions\n",
        "        _, predicted = torch.max(outputs, 1)  # Get the highest probability class\n",
        "\n",
        "    # Convert prediction to label\n",
        "    predicted_label = predicted.numpy()[0]  # Convert PyTorch tensor to NumPy array\n",
        "    #Convert the Numerical predictions back to string labels\n",
        "    predicted_labels = le.inverse_transform(predicted.numpy())\n",
        "    return predicted_labels\n",
        "\n",
        "# Example usage:\n",
        "audio_file = \"/content/Aylex.mp3\"  # Replace with your actual MP3 file path\n",
        "if os.path.exists(audio_file):\n",
        "    predicted_genre = predict_genre(audio_file)\n",
        "    print(f\"Predicted Genre: {predicted_genre}\")\n",
        "else:\n",
        "    print(\"Error: Audio file not found.\")"
      ],
      "metadata": {
        "colab": {
          "base_uri": "https://localhost:8080/"
        },
        "collapsed": true,
        "id": "xzoc-eIRTpMo",
        "outputId": "35cbc0e2-f015-46e7-ef3f-ffa5308643b7"
      },
      "execution_count": 26,
      "outputs": [
        {
          "output_type": "stream",
          "name": "stdout",
          "text": [
            "   length  chroma_stft_mean  chroma_stft_var  rms_mean   rms_var  \\\n",
            "0  661497          0.446169         0.083896  0.218316  0.005942   \n",
            "\n",
            "   spectral_centroid_mean  spectral_centroid_var  spectral_bandwidth_mean  \\\n",
            "0             1238.487212          332541.829382              2256.945715   \n",
            "\n",
            "   spectral_bandwidth_var  rolloff_mean  ...  mfcc16_mean  mfcc16_var  \\\n",
            "0           801664.808233   1999.354577  ...     -4.18513   55.459705   \n",
            "\n",
            "   mfcc17_mean  mfcc17_var  mfcc18_mean  mfcc18_var  mfcc19_mean mfcc19_var  \\\n",
            "0    -0.018511   57.903419     0.881036   61.511276    -2.013884  53.134365   \n",
            "\n",
            "   mfcc20_mean  mfcc20_var  \n",
            "0    -0.088445   58.189308  \n",
            "\n",
            "[1 rows x 58 columns]\n",
            "Predicted Genre: ['pop']\n"
          ]
        }
      ]
    },
    {
      "cell_type": "code",
      "source": [
        "print(\"LabelEncoder classes:\", le.classes_)"
      ],
      "metadata": {
        "colab": {
          "base_uri": "https://localhost:8080/"
        },
        "id": "pYlXHhFjxhEl",
        "outputId": "d4d6f15c-21a9-4b2f-c6bc-b46a855bff45"
      },
      "execution_count": 28,
      "outputs": [
        {
          "output_type": "stream",
          "name": "stdout",
          "text": [
            "LabelEncoder classes: ['blues' 'classical' 'country' 'disco' 'hiphop' 'jazz' 'metal' 'pop'\n",
            " 'reggae' 'rock']\n"
          ]
        }
      ]
    }
  ]
}